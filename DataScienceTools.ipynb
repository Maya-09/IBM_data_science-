{
 "cells": [
  {
   "cell_type": "markdown",
   "id": "c401bccc",
   "metadata": {},
   "source": [
    "# Data Science Tools\n"
   ]
  },
  {
   "cell_type": "markdown",
   "id": "b19deb10",
   "metadata": {},
   "source": [
    "In this notebook, Data Science Tools are summarized."
   ]
  },
  {
   "cell_type": "markdown",
   "id": "89ea3046",
   "metadata": {},
   "source": [
    "The following are languages used in data science:\n",
    "1. Python\n",
    "2. R\n",
    "3. Scala\n",
    "4. SQL\n",
    "5. Java\n",
    "6. Julia\n",
    "7. JavaScript\n",
    "8. php\n",
    "9. Go\n",
    "10. Ruby\n",
    "11. Visual Basic\n",
    "12. C++\n",
    "\n"
   ]
  },
  {
   "cell_type": "markdown",
   "id": "918d3eab",
   "metadata": {},
   "source": [
    "Libraries used in data science include:\n",
    "\n",
    "1. pandas\n",
    "2. Numpy\n",
    "3. Matplotlib\n",
    "4. Seaborn\n",
    "5. ScikitLearn\n",
    "6. Keras\n",
    "7. TensorFlow\n",
    "8. Pytorch\n",
    "9. ggplot2\n",
    "10. Vegas\n",
    "11. Big DL\n",
    "\n"
   ]
  },
  {
   "cell_type": "markdown",
   "id": "81805fa2",
   "metadata": {},
   "source": [
    "Data science tools are categoried as shown in the  table below:\n",
    "  "
   ]
  },
  {
   "cell_type": "markdown",
   "id": "c00d9903",
   "metadata": {},
   "source": [
    "\n",
    "|Task category|Open source tools|Commercial tools| Cloud based tools|\n",
    "|:-------------|:-----------------|:----------------|:------------------|\n",
    "|Data Management|MySQL, postgreSQ, Ceph, Mongo DB, Apache Cassandra, Hadoop File System|Oracle database, microsoft SQL server, IBM DB2|AWS Amazon Dynamo DB, Cloudant, IBM DB2|\n",
    "|Data integration & transformation|Apache airflow, Apache Kafka, Apache nifi, spark SQL, Node RED|Informatica power centre, IBM Infosphere Datastage, talend, IBM Watson studio desktop|Informatica cloud data Integration, IBM data refinery|\n",
    "|Data Visualisation|Pixie dust, hue, Kibana, Apache superse|Tableau, Microsoft power BI, IBM cognos analysis, IBM Watson studio desktop|Datamear, IBM cognos analysis, IBM watson studio| \n",
    "|Model Building||SPSS modeler, SAS enterprise miner, IBM Watson studio desktop| IBM Watson Machine learning, AI platform training|\n",
    "|Model Deployment|Apache prediction IO, Seldon, mLeap, TensorFlow serving, Redhat openshift, Kubernetes, TensorFlow Lite, TensorFlow.JS|IBM SPSS collaboration & deployment service|IBM Watson Machine learning|\n",
    "|Model Monitoring & Assessment|Model DB, Prometheus, IBM AI fairness 360 open source toolkit, Adversial Robostness 360 toolbox, AI Explainability 360||Amazon sage maker model monitor, Watson open scale|\n",
    "|Code Asset Management|Git, Github, Gitlab, Bit bucket|||\n",
    "|Data Asset Management|Apache atlas, ODPi Egeria, Kylo|Informatica, IBM infosphere Information governance catalog||\n",
    "|Development Environment|Jupyter notebook, Jupyter lab, Apache Zeppelin, R studio, Spyder, Apache Spark, Ray|||\n",
    "|Fully Integrated Tools| Knime, orange| Watson studio, Watson open scale, H20 AI|Watson Studio, watson open scale, Microsoft Azure machine learning, H20 dowerless AI|"
   ]
  },
  {
   "cell_type": "markdown",
   "id": "1b779a8f",
   "metadata": {},
   "source": [
    "### Here are simple examples of evaluating arithmetic expressions in python"
   ]
  },
  {
   "cell_type": "code",
   "execution_count": 2,
   "id": "4eefad59",
   "metadata": {},
   "outputs": [
    {
     "name": "stdout",
     "output_type": "stream",
     "text": [
      "11\n"
     ]
    }
   ],
   "source": [
    "#This is a simple arithmetic operation to mutiply and then add numbers\n",
    "x = 2\n",
    "y = 3\n",
    "k = 5\n",
    "z = (x*y)+k\n",
    "print(z)"
   ]
  },
  {
   "cell_type": "code",
   "execution_count": 3,
   "id": "d548830d",
   "metadata": {},
   "outputs": [
    {
     "name": "stdout",
     "output_type": "stream",
     "text": [
      "600mins = 10.0hrs\n"
     ]
    }
   ],
   "source": [
    "#This converts time in mins to hours by dividing by 60\n",
    "mins = 600\n",
    "hour = mins/60\n",
    "print(str(mins)+\"mins = \"+ str(hour)+\"hrs\")"
   ]
  },
  {
   "cell_type": "markdown",
   "id": "2da455db",
   "metadata": {},
   "source": [
    "**Objectives**\n",
    "- List languages used in data science\n",
    "- List libraries used in data science\n",
    "- List Data science task caterogies and tools for the tasks\n",
    "- Do simple aritmentic and conversions using jupyter notebook"
   ]
  },
  {
   "cell_type": "markdown",
   "id": "ad63b6c2",
   "metadata": {},
   "source": [
    "## Autor\n",
    "Nwachi Faith"
   ]
  }
 ],
 "metadata": {
  "kernelspec": {
   "display_name": "Python 3 (ipykernel)",
   "language": "python",
   "name": "python3"
  },
  "language_info": {
   "codemirror_mode": {
    "name": "ipython",
    "version": 3
   },
   "file_extension": ".py",
   "mimetype": "text/x-python",
   "name": "python",
   "nbconvert_exporter": "python",
   "pygments_lexer": "ipython3",
   "version": "3.9.13"
  }
 },
 "nbformat": 4,
 "nbformat_minor": 5
}
